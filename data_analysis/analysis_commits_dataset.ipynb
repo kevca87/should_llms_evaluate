{
 "cells": [
  {
   "cell_type": "markdown",
   "metadata": {},
   "source": [
    "# Commits dataset"
   ]
  },
  {
   "cell_type": "markdown",
   "metadata": {},
   "source": [
    "We use the [dataset provided by Tian et al.](https://zenodo.org/records/6383502). Specifically we use the [maintenance type and expression way.xlsx](https://github.com/WhatMakesAGoodCM/What-Makes-a-Good-Commit-Message/blob/master/Dataset/maintenance%20type%20and%20expression%20way.xlsx) file where 252 commit messages were categorized by the \"Why\" and \"What\" expressions that are present in the message.\n",
    "\n",
    "We collect from the GitHub API the diffs (code changes of the commits) of the 271 commits."
   ]
  },
  {
   "cell_type": "code",
   "execution_count": 1,
   "metadata": {},
   "outputs": [],
   "source": [
    "import pandas as pd"
   ]
  },
  {
   "cell_type": "code",
   "execution_count": 2,
   "metadata": {},
   "outputs": [],
   "source": [
    "file_name = '../data/commits.csv'"
   ]
  },
  {
   "cell_type": "code",
   "execution_count": 3,
   "metadata": {},
   "outputs": [
    {
     "name": "stdout",
     "output_type": "stream",
     "text": [
      "The dataset is composed of 271 commits\n"
     ]
    }
   ],
   "source": [
    "df = pd.read_csv(file_name)\n",
    "n = df['api_url'].unique().shape[0]\n",
    "print(f'The dataset is composed of {n} commits')"
   ]
  },
  {
   "cell_type": "markdown",
   "metadata": {},
   "source": [
    "In our collect process, we notice that 3 commits does not have a diff, because the commit consists just of renaming files."
   ]
  },
  {
   "cell_type": "code",
   "execution_count": 4,
   "metadata": {},
   "outputs": [
    {
     "name": "stdout",
     "output_type": "stream",
     "text": [
      "268 commits have a diff\n"
     ]
    }
   ],
   "source": [
    "n_with_diff = df['diff'].notna().sum()\n",
    "print(f'{n_with_diff} commits have a diff')"
   ]
  }
 ],
 "metadata": {
  "kernelspec": {
   "display_name": "Python 3",
   "language": "python",
   "name": "python3"
  },
  "language_info": {
   "codemirror_mode": {
    "name": "ipython",
    "version": 3
   },
   "file_extension": ".py",
   "mimetype": "text/x-python",
   "name": "python",
   "nbconvert_exporter": "python",
   "pygments_lexer": "ipython3",
   "version": "3.10.11"
  }
 },
 "nbformat": 4,
 "nbformat_minor": 2
}
