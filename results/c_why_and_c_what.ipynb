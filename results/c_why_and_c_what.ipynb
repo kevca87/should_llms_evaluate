{
 "cells": [
  {
   "cell_type": "code",
   "execution_count": 1,
   "metadata": {},
   "outputs": [],
   "source": [
    "import pandas as pd\n",
    "import matplotlib.pyplot as plt\n",
    "import matplotlib\n",
    "from sklearn.metrics import cohen_kappa_score\n",
    "from sklearn.metrics import confusion_matrix\n",
    "from sklearn.metrics import f1_score, precision_score, recall_score, classification_report\n",
    "from sklearn.metrics import ConfusionMatrixDisplay"
   ]
  },
  {
   "cell_type": "code",
   "execution_count": 2,
   "metadata": {},
   "outputs": [],
   "source": [
    "c_what_and_why_filename = \"./cm_what_and_why_codestral-latest.csv\""
   ]
  },
  {
   "cell_type": "code",
   "execution_count": 3,
   "metadata": {},
   "outputs": [
    {
     "data": {
      "text/html": [
       "<div>\n",
       "<style scoped>\n",
       "    .dataframe tbody tr th:only-of-type {\n",
       "        vertical-align: middle;\n",
       "    }\n",
       "\n",
       "    .dataframe tbody tr th {\n",
       "        vertical-align: top;\n",
       "    }\n",
       "\n",
       "    .dataframe thead th {\n",
       "        text-align: right;\n",
       "    }\n",
       "</style>\n",
       "<table border=\"1\" class=\"dataframe\">\n",
       "  <thead>\n",
       "    <tr style=\"text-align: right;\">\n",
       "      <th></th>\n",
       "      <th>id</th>\n",
       "      <th>repo_id</th>\n",
       "      <th>label</th>\n",
       "      <th>url</th>\n",
       "      <th>if_mulit_commit</th>\n",
       "      <th>message</th>\n",
       "      <th>new_message1</th>\n",
       "      <th>authorName</th>\n",
       "      <th>authorEmail</th>\n",
       "      <th>commitDate</th>\n",
       "      <th>committerName</th>\n",
       "      <th>committerEmail</th>\n",
       "      <th>committerDate</th>\n",
       "      <th>contains</th>\n",
       "      <th>contains_expl</th>\n",
       "    </tr>\n",
       "  </thead>\n",
       "  <tbody>\n",
       "    <tr>\n",
       "      <th>0</th>\n",
       "      <td>1</td>\n",
       "      <td>1</td>\n",
       "      <td>0</td>\n",
       "      <td>https://github.com/junit-team/junit4/commit/12...</td>\n",
       "      <td>NaN</td>\n",
       "      <td>Mark ThreadGroups created by FailOnTimeout as ...</td>\n",
       "      <td>Mark ThreadGroups created by  &lt;file_name&gt;  as ...</td>\n",
       "      <td>Kevin Cooney</td>\n",
       "      <td>kcooney@users.noreply.github.com</td>\n",
       "      <td>2021-01-02T22:09:07Z</td>\n",
       "      <td>GitHub</td>\n",
       "      <td>noreply@github.com</td>\n",
       "      <td>2021-01-02T22:09:07Z</td>\n",
       "      <td>Why and What</td>\n",
       "      <td>The message clearly presents both the 'Why' (t...</td>\n",
       "    </tr>\n",
       "    <tr>\n",
       "      <th>1</th>\n",
       "      <td>27</td>\n",
       "      <td>1</td>\n",
       "      <td>0</td>\n",
       "      <td>https://github.com/junit-team/junit4/commit/43...</td>\n",
       "      <td>NaN</td>\n",
       "      <td>Use Google's Maven Central mirror &lt;enter&gt;  &lt;en...</td>\n",
       "      <td>Use Google's &lt;iden&gt; mirror  &lt;enter&gt; We are usi...</td>\n",
       "      <td>Stefan Birkner</td>\n",
       "      <td>mail@stefan-birkner.de</td>\n",
       "      <td>2020-02-07T20:35:25Z</td>\n",
       "      <td>Marc Philipp</td>\n",
       "      <td>marc@gradle.com</td>\n",
       "      <td>2020-02-19T10:13:01Z</td>\n",
       "      <td>Why and What</td>\n",
       "      <td>The message clearly explains both the 'What' (...</td>\n",
       "    </tr>\n",
       "    <tr>\n",
       "      <th>2</th>\n",
       "      <td>38</td>\n",
       "      <td>1</td>\n",
       "      <td>3</td>\n",
       "      <td>https://github.com/junit-team/junit4/commit/6c...</td>\n",
       "      <td>NaN</td>\n",
       "      <td>Remove reference to obsolete mailing list</td>\n",
       "      <td>Remove reference to obsolete mailing list</td>\n",
       "      <td>Marc Philipp</td>\n",
       "      <td>mail@marcphilipp.de</td>\n",
       "      <td>2019-11-02T13:05:11Z</td>\n",
       "      <td>Marc Philipp</td>\n",
       "      <td>mail@marcphilipp.de</td>\n",
       "      <td>2019-11-02T13:05:11Z</td>\n",
       "      <td>No Why</td>\n",
       "      <td>The commit message only summarizes the changes...</td>\n",
       "    </tr>\n",
       "    <tr>\n",
       "      <th>3</th>\n",
       "      <td>56</td>\n",
       "      <td>1</td>\n",
       "      <td>0</td>\n",
       "      <td>https://github.com/junit-team/junit4/commit/46...</td>\n",
       "      <td>NaN</td>\n",
       "      <td>Deprecate Assert#assertThat &lt;enter&gt;  &lt;enter&gt; T...</td>\n",
       "      <td>Deprecate  &lt;method_name&gt; &lt;enter&gt; The method &lt;i...</td>\n",
       "      <td>Stefan Birkner</td>\n",
       "      <td>mail@stefan-birkner.de</td>\n",
       "      <td>2019-09-26T20:24:47Z</td>\n",
       "      <td>Stefan Birkner</td>\n",
       "      <td>mail@stefan-birkner.de</td>\n",
       "      <td>2019-10-13T18:24:00Z</td>\n",
       "      <td>Why and What</td>\n",
       "      <td>The message clearly states the reason for the ...</td>\n",
       "    </tr>\n",
       "    <tr>\n",
       "      <th>4</th>\n",
       "      <td>66</td>\n",
       "      <td>1</td>\n",
       "      <td>0</td>\n",
       "      <td>https://github.com/junit-team/junit4/commit/8a...</td>\n",
       "      <td>NaN</td>\n",
       "      <td>Revert 'ExternalResource: declare after() to t...</td>\n",
       "      <td>Revert ' &lt;file_name&gt; : declare after() to thro...</td>\n",
       "      <td>Alex Panchenko</td>\n",
       "      <td>alex.panchenko@gmail.com</td>\n",
       "      <td>2019-04-03T15:20:00Z</td>\n",
       "      <td>Marc Philipp</td>\n",
       "      <td>marc@gradle.com</td>\n",
       "      <td>2019-04-04T09:22:28Z</td>\n",
       "      <td>Why and What</td>\n",
       "      <td>The message presents both the what (Revert 'Ex...</td>\n",
       "    </tr>\n",
       "  </tbody>\n",
       "</table>\n",
       "</div>"
      ],
      "text/plain": [
       "   id  repo_id  label                                                url  \\\n",
       "0   1        1      0  https://github.com/junit-team/junit4/commit/12...   \n",
       "1  27        1      0  https://github.com/junit-team/junit4/commit/43...   \n",
       "2  38        1      3  https://github.com/junit-team/junit4/commit/6c...   \n",
       "3  56        1      0  https://github.com/junit-team/junit4/commit/46...   \n",
       "4  66        1      0  https://github.com/junit-team/junit4/commit/8a...   \n",
       "\n",
       "   if_mulit_commit                                            message  \\\n",
       "0              NaN  Mark ThreadGroups created by FailOnTimeout as ...   \n",
       "1              NaN  Use Google's Maven Central mirror <enter>  <en...   \n",
       "2              NaN          Remove reference to obsolete mailing list   \n",
       "3              NaN  Deprecate Assert#assertThat <enter>  <enter> T...   \n",
       "4              NaN  Revert 'ExternalResource: declare after() to t...   \n",
       "\n",
       "                                        new_message1      authorName  \\\n",
       "0  Mark ThreadGroups created by  <file_name>  as ...    Kevin Cooney   \n",
       "1  Use Google's <iden> mirror  <enter> We are usi...  Stefan Birkner   \n",
       "2         Remove reference to obsolete mailing list     Marc Philipp   \n",
       "3  Deprecate  <method_name> <enter> The method <i...  Stefan Birkner   \n",
       "4  Revert ' <file_name> : declare after() to thro...  Alex Panchenko   \n",
       "\n",
       "                        authorEmail            commitDate   committerName  \\\n",
       "0  kcooney@users.noreply.github.com  2021-01-02T22:09:07Z          GitHub   \n",
       "1            mail@stefan-birkner.de  2020-02-07T20:35:25Z    Marc Philipp   \n",
       "2               mail@marcphilipp.de  2019-11-02T13:05:11Z    Marc Philipp   \n",
       "3            mail@stefan-birkner.de  2019-09-26T20:24:47Z  Stefan Birkner   \n",
       "4          alex.panchenko@gmail.com  2019-04-03T15:20:00Z    Marc Philipp   \n",
       "\n",
       "           committerEmail         committerDate      contains  \\\n",
       "0      noreply@github.com  2021-01-02T22:09:07Z  Why and What   \n",
       "1         marc@gradle.com  2020-02-19T10:13:01Z  Why and What   \n",
       "2     mail@marcphilipp.de  2019-11-02T13:05:11Z        No Why   \n",
       "3  mail@stefan-birkner.de  2019-10-13T18:24:00Z  Why and What   \n",
       "4         marc@gradle.com  2019-04-04T09:22:28Z  Why and What   \n",
       "\n",
       "                                       contains_expl  \n",
       "0  The message clearly presents both the 'Why' (t...  \n",
       "1  The message clearly explains both the 'What' (...  \n",
       "2  The commit message only summarizes the changes...  \n",
       "3  The message clearly states the reason for the ...  \n",
       "4  The message presents both the what (Revert 'Ex...  "
      ]
     },
     "execution_count": 3,
     "metadata": {},
     "output_type": "execute_result"
    }
   ],
   "source": [
    "c_what_and_c_why_df = pd.read_csv(c_what_and_why_filename)\n",
    "c_what_and_c_why_df.head()"
   ]
  },
  {
   "cell_type": "code",
   "execution_count": 4,
   "metadata": {},
   "outputs": [
    {
     "data": {
      "text/plain": [
       "contains\n",
       "Why and What    1056\n",
       "No Why           506\n",
       "No What           35\n",
       "What and Why      10\n",
       "What               6\n",
       "Name: count, dtype: int64"
      ]
     },
     "execution_count": 4,
     "metadata": {},
     "output_type": "execute_result"
    }
   ],
   "source": [
    "c_what_and_c_why_df['contains'].value_counts()"
   ]
  },
  {
   "cell_type": "code",
   "execution_count": 5,
   "metadata": {},
   "outputs": [
    {
     "data": {
      "text/plain": [
       "contains\n",
       "Why and What    1066\n",
       "No Why           512\n",
       "No What           35\n",
       "Name: count, dtype: int64"
      ]
     },
     "execution_count": 5,
     "metadata": {},
     "output_type": "execute_result"
    }
   ],
   "source": [
    "c_what_and_c_why_df['contains'] = c_what_and_c_why_df['contains'].replace('What and Why', 'Why and What')\n",
    "c_what_and_c_why_df['contains'] = c_what_and_c_why_df['contains'].replace('What', 'No Why')\n",
    "c_what_and_c_why_df['contains'].value_counts()"
   ]
  },
  {
   "cell_type": "code",
   "execution_count": 6,
   "metadata": {},
   "outputs": [
    {
     "data": {
      "text/plain": [
       "label\n",
       "Why and What            969\n",
       "No Why                  428\n",
       "No What                 187\n",
       "Neither Why nor What     65\n",
       "Name: count, dtype: int64"
      ]
     },
     "execution_count": 6,
     "metadata": {},
     "output_type": "execute_result"
    }
   ],
   "source": [
    "c_what_and_c_why_df['label'] = c_what_and_c_why_df['label'].replace(0, 'Why and What')\n",
    "c_what_and_c_why_df['label'] = c_what_and_c_why_df['label'].replace(1,'Neither Why nor What')\n",
    "c_what_and_c_why_df['label'] = c_what_and_c_why_df['label'].replace(2,'No What')\n",
    "c_what_and_c_why_df['label'] = c_what_and_c_why_df['label'].replace(3,'No Why')\n",
    "c_what_and_c_why_df['label'].value_counts()"
   ]
  },
  {
   "cell_type": "code",
   "execution_count": 7,
   "metadata": {},
   "outputs": [],
   "source": [
    "labels = ['Why and What', 'No Why', 'No What', 'Neither Why nor What']"
   ]
  },
  {
   "cell_type": "code",
   "execution_count": 8,
   "metadata": {},
   "outputs": [],
   "source": [
    "cm = confusion_matrix(c_what_and_c_why_df['label'].to_list(),c_what_and_c_why_df['contains'].to_list(), labels=labels)"
   ]
  },
  {
   "cell_type": "code",
   "execution_count": 9,
   "metadata": {},
   "outputs": [
    {
     "data": {
      "image/png": "[encoded data removed]",
      "text/plain": [
       "<Figure size 640x480 with 2 Axes>"
      ]
     },
     "metadata": {},
     "output_type": "display_data"
    }
   ],
   "source": [
    "cm_display = ConfusionMatrixDisplay(confusion_matrix = cm, display_labels = labels)\n",
    "cmap = matplotlib.colors.LinearSegmentedColormap.from_list(\"\", [\"white\",\"#BF6E0B\"])\n",
    "cm_display.plot(cmap=cmap)\n",
    "plt.xticks(rotation=45)\n",
    "plt.ylabel('Manual classification (Tian et al.)')\n",
    "plt.xlabel('Codestral classification')\n",
    "plt.title('Commit message classification')\n",
    "plt.show()"
   ]
  },
  {
   "cell_type": "code",
   "execution_count": 10,
   "metadata": {},
   "outputs": [
    {
     "data": {
      "text/plain": [
       "0.05162793054199544"
      ]
     },
     "execution_count": 10,
     "metadata": {},
     "output_type": "execute_result"
    }
   ],
   "source": [
    "cohen_kappa_score(c_what_and_c_why_df['label'].to_list(),c_what_and_c_why_df['contains'].to_list())"
   ]
  },
  {
   "cell_type": "code",
   "execution_count": 11,
   "metadata": {},
   "outputs": [
    {
     "name": "stderr",
     "output_type": "stream",
     "text": [
      "c:\\Users\\Kevin\\AppData\\Local\\Programs\\Python\\Python310\\lib\\site-packages\\sklearn\\metrics\\_classification.py:1509: UndefinedMetricWarning: Precision is ill-defined and being set to 0.0 in labels with no predicted samples. Use `zero_division` parameter to control this behavior.\n",
      "  _warn_prf(average, modifier, f\"{metric.capitalize()} is\", len(result))\n",
      "c:\\Users\\Kevin\\AppData\\Local\\Programs\\Python\\Python310\\lib\\site-packages\\sklearn\\metrics\\_classification.py:1509: UndefinedMetricWarning: Precision is ill-defined and being set to 0.0 in labels with no predicted samples. Use `zero_division` parameter to control this behavior.\n",
      "  _warn_prf(average, modifier, f\"{metric.capitalize()} is\", len(result))\n",
      "c:\\Users\\Kevin\\AppData\\Local\\Programs\\Python\\Python310\\lib\\site-packages\\sklearn\\metrics\\_classification.py:1509: UndefinedMetricWarning: Precision is ill-defined and being set to 0.0 in labels with no predicted samples. Use `zero_division` parameter to control this behavior.\n",
      "  _warn_prf(average, modifier, f\"{metric.capitalize()} is\", len(result))\n"
     ]
    }
   ],
   "source": [
    "class_rep_dict = classification_report(c_what_and_c_why_df['label'].to_list(),c_what_and_c_why_df['contains'].to_list(), labels= labels, output_dict=True)"
   ]
  },
  {
   "cell_type": "code",
   "execution_count": 12,
   "metadata": {},
   "outputs": [
    {
     "data": {
      "text/plain": [
       "{'precision': 0.2710750615619137,\n",
       " 'recall': 0.2586674812124018,\n",
       " 'f1-score': 0.25002526704654365,\n",
       " 'support': 1649.0}"
      ]
     },
     "execution_count": 12,
     "metadata": {},
     "output_type": "execute_result"
    }
   ],
   "source": [
    "class_rep_dict['Average (weighted)'] = class_rep_dict.pop('weighted avg')\n",
    "class_rep_dict.pop('micro avg')\n",
    "class_rep_dict.pop('macro avg')"
   ]
  },
  {
   "cell_type": "code",
   "execution_count": 13,
   "metadata": {},
   "outputs": [
    {
     "data": {
      "text/html": [
       "<div>\n",
       "<style scoped>\n",
       "    .dataframe tbody tr th:only-of-type {\n",
       "        vertical-align: middle;\n",
       "    }\n",
       "\n",
       "    .dataframe tbody tr th {\n",
       "        vertical-align: top;\n",
       "    }\n",
       "\n",
       "    .dataframe thead th {\n",
       "        text-align: right;\n",
       "    }\n",
       "</style>\n",
       "<table border=\"1\" class=\"dataframe\">\n",
       "  <thead>\n",
       "    <tr style=\"text-align: right;\">\n",
       "      <th></th>\n",
       "      <th>precision</th>\n",
       "      <th>recall</th>\n",
       "      <th>f1-score</th>\n",
       "      <th>support</th>\n",
       "    </tr>\n",
       "  </thead>\n",
       "  <tbody>\n",
       "    <tr>\n",
       "      <th>Why and What</th>\n",
       "      <td>0.630394</td>\n",
       "      <td>0.693498</td>\n",
       "      <td>0.660442</td>\n",
       "      <td>969.0</td>\n",
       "    </tr>\n",
       "    <tr>\n",
       "      <th>No Why</th>\n",
       "      <td>0.253906</td>\n",
       "      <td>0.303738</td>\n",
       "      <td>0.276596</td>\n",
       "      <td>428.0</td>\n",
       "    </tr>\n",
       "    <tr>\n",
       "      <th>No What</th>\n",
       "      <td>0.200000</td>\n",
       "      <td>0.037433</td>\n",
       "      <td>0.063063</td>\n",
       "      <td>187.0</td>\n",
       "    </tr>\n",
       "    <tr>\n",
       "      <th>Neither Why nor What</th>\n",
       "      <td>0.000000</td>\n",
       "      <td>0.000000</td>\n",
       "      <td>0.000000</td>\n",
       "      <td>65.0</td>\n",
       "    </tr>\n",
       "    <tr>\n",
       "      <th>Average (weighted)</th>\n",
       "      <td>0.459020</td>\n",
       "      <td>0.490600</td>\n",
       "      <td>0.467037</td>\n",
       "      <td>1649.0</td>\n",
       "    </tr>\n",
       "  </tbody>\n",
       "</table>\n",
       "</div>"
      ],
      "text/plain": [
       "                      precision    recall  f1-score  support\n",
       "Why and What           0.630394  0.693498  0.660442    969.0\n",
       "No Why                 0.253906  0.303738  0.276596    428.0\n",
       "No What                0.200000  0.037433  0.063063    187.0\n",
       "Neither Why nor What   0.000000  0.000000  0.000000     65.0\n",
       "Average (weighted)     0.459020  0.490600  0.467037   1649.0"
      ]
     },
     "execution_count": 13,
     "metadata": {},
     "output_type": "execute_result"
    }
   ],
   "source": [
    "class_rep_df = pd.DataFrame(class_rep_dict).transpose()\n",
    "class_rep_df"
   ]
  },
  {
   "cell_type": "code",
   "execution_count": 14,
   "metadata": {},
   "outputs": [],
   "source": [
    "class_rep_df.to_latex('c_why_and_what_table.tex', float_format=\"%.2f\")"
   ]
  }
 ],
 "metadata": {
  "kernelspec": {
   "display_name": "Python 3",
   "language": "python",
   "name": "python3"
  },
  "language_info": {
   "codemirror_mode": {
    "name": "ipython",
    "version": 3
   },
   "file_extension": ".py",
   "mimetype": "text/x-python",
   "name": "python",
   "nbconvert_exporter": "python",
   "pygments_lexer": "ipython3",
   "version": "3.10.11"
  }
 },
 "nbformat": 4,
 "nbformat_minor": 2
}
