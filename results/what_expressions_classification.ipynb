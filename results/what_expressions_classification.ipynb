{
 "cells": [
  {
   "cell_type": "markdown",
   "metadata": {},
   "source": [
    "# Why expressions classification"
   ]
  },
  {
   "cell_type": "code",
   "execution_count": 1,
   "metadata": {},
   "outputs": [],
   "source": [
    "import pandas as pd\n",
    "import matplotlib.pyplot as plt\n",
    "import matplotlib\n",
    "from sklearn.metrics import cohen_kappa_score\n",
    "from sklearn.metrics import confusion_matrix\n",
    "from sklearn.metrics import ConfusionMatrixDisplay"
   ]
  },
  {
   "cell_type": "code",
   "execution_count": 2,
   "metadata": {},
   "outputs": [],
   "source": [
    "codestral_classification_data_file_name = \"./cme_codestral-latest_classification.csv\""
   ]
  },
  {
   "cell_type": "markdown",
   "metadata": {},
   "source": [
    "The following dataset contains the answers of the model to the prompts to classify the category of the \"Why\" and \"What\" expression/"
   ]
  },
  {
   "cell_type": "code",
   "execution_count": 3,
   "metadata": {},
   "outputs": [
    {
     "data": {
      "text/html": [
       "<div>\n",
       "<style scoped>\n",
       "    .dataframe tbody tr th:only-of-type {\n",
       "        vertical-align: middle;\n",
       "    }\n",
       "\n",
       "    .dataframe tbody tr th {\n",
       "        vertical-align: top;\n",
       "    }\n",
       "\n",
       "    .dataframe thead th {\n",
       "        text-align: right;\n",
       "    }\n",
       "</style>\n",
       "<table border=\"1\" class=\"dataframe\">\n",
       "  <thead>\n",
       "    <tr style=\"text-align: right;\">\n",
       "      <th></th>\n",
       "      <th>url</th>\n",
       "      <th>message</th>\n",
       "      <th>api_url</th>\n",
       "      <th>diff</th>\n",
       "      <th>why_category</th>\n",
       "      <th>why_category_expl</th>\n",
       "      <th>what_category</th>\n",
       "      <th>what_category_expl</th>\n",
       "    </tr>\n",
       "  </thead>\n",
       "  <tbody>\n",
       "    <tr>\n",
       "      <th>0</th>\n",
       "      <td>https://github.com/junit-team/junit4/commit/31...</td>\n",
       "      <td>Relicense JUnit from CPL to EPL  &lt;enter&gt; EPL i...</td>\n",
       "      <td>https://api.github.com/repos/junit-team/junit4...</td>\n",
       "      <td>@@ -1,8 +1,8 @@\\r\\n JUnit\\r\\n \\r\\n-Common Publ...</td>\n",
       "      <td>Describe Objective</td>\n",
       "      <td>The commit message explains the objective of t...</td>\n",
       "      <td>Summarize Code Object Change</td>\n",
       "      <td>The commit message primarily describes the cha...</td>\n",
       "    </tr>\n",
       "    <tr>\n",
       "      <th>1</th>\n",
       "      <td>https://github.com/spring-projects/spring-boot...</td>\n",
       "      <td>Better diagnotics when ESCF subclass breaks wi...</td>\n",
       "      <td>https://api.github.com/repos/spring-projects/s...</td>\n",
       "      <td>@@ -17,6 +17,7 @@\\r\\n package org.springframew...</td>\n",
       "      <td>Describe Issue</td>\n",
       "      <td>The commit message describes the issue of fail...</td>\n",
       "      <td>Describe Implementation Principle</td>\n",
       "      <td>The commit message explains the technical prin...</td>\n",
       "    </tr>\n",
       "    <tr>\n",
       "      <th>2</th>\n",
       "      <td>https://github.com/spring-projects/spring-boot...</td>\n",
       "      <td>Update view of bean types when an override is ...</td>\n",
       "      <td>https://api.github.com/repos/spring-projects/s...</td>\n",
       "      <td>@@ -76,7 +76,7 @@ final class BeanTypeRegistry...</td>\n",
       "      <td>Describe Issue</td>\n",
       "      <td>The commit message directly elaborates the mot...</td>\n",
       "      <td>Summarize Code Object Change</td>\n",
       "      <td>The commit message summarizes the changes in t...</td>\n",
       "    </tr>\n",
       "    <tr>\n",
       "      <th>3</th>\n",
       "      <td>https://github.com/square/okhttp/commit/868ee8...</td>\n",
       "      <td>Drop our one remaining DSS cipher suite.  &lt;ent...</td>\n",
       "      <td>https://api.github.com/repos/square/okhttp/com...</td>\n",
       "      <td>@@ -37,7 +37,7 @@\\r\\n  */\\r\\n public final cla...</td>\n",
       "      <td>Describe Issue</td>\n",
       "      <td>The commit message directly elaborates the mot...</td>\n",
       "      <td>Summarize Code Object Change</td>\n",
       "      <td>The commit message summarizes the code object ...</td>\n",
       "    </tr>\n",
       "    <tr>\n",
       "      <th>4</th>\n",
       "      <td>https://github.com/spring-projects/spring-boot...</td>\n",
       "      <td>Fix undertow access_log file name  &lt;enter&gt; Und...</td>\n",
       "      <td>https://api.github.com/repos/spring-projects/s...</td>\n",
       "      <td>@@ -384,7 +384,7 @@ private AccessLogHandler c...</td>\n",
       "      <td>Describe Issue</td>\n",
       "      <td>The commit message directly elaborates the mot...</td>\n",
       "      <td>Summarize Code Object Change</td>\n",
       "      <td>The commit message summarizes the code object ...</td>\n",
       "    </tr>\n",
       "  </tbody>\n",
       "</table>\n",
       "</div>"
      ],
      "text/plain": [
       "                                                 url  \\\n",
       "0  https://github.com/junit-team/junit4/commit/31...   \n",
       "1  https://github.com/spring-projects/spring-boot...   \n",
       "2  https://github.com/spring-projects/spring-boot...   \n",
       "3  https://github.com/square/okhttp/commit/868ee8...   \n",
       "4  https://github.com/spring-projects/spring-boot...   \n",
       "\n",
       "                                             message  \\\n",
       "0  Relicense JUnit from CPL to EPL  <enter> EPL i...   \n",
       "1  Better diagnotics when ESCF subclass breaks wi...   \n",
       "2  Update view of bean types when an override is ...   \n",
       "3  Drop our one remaining DSS cipher suite.  <ent...   \n",
       "4  Fix undertow access_log file name  <enter> Und...   \n",
       "\n",
       "                                             api_url  \\\n",
       "0  https://api.github.com/repos/junit-team/junit4...   \n",
       "1  https://api.github.com/repos/spring-projects/s...   \n",
       "2  https://api.github.com/repos/spring-projects/s...   \n",
       "3  https://api.github.com/repos/square/okhttp/com...   \n",
       "4  https://api.github.com/repos/spring-projects/s...   \n",
       "\n",
       "                                                diff        why_category  \\\n",
       "0  @@ -1,8 +1,8 @@\\r\\n JUnit\\r\\n \\r\\n-Common Publ...  Describe Objective   \n",
       "1  @@ -17,6 +17,7 @@\\r\\n package org.springframew...      Describe Issue   \n",
       "2  @@ -76,7 +76,7 @@ final class BeanTypeRegistry...      Describe Issue   \n",
       "3  @@ -37,7 +37,7 @@\\r\\n  */\\r\\n public final cla...      Describe Issue   \n",
       "4  @@ -384,7 +384,7 @@ private AccessLogHandler c...      Describe Issue   \n",
       "\n",
       "                                   why_category_expl  \\\n",
       "0  The commit message explains the objective of t...   \n",
       "1  The commit message describes the issue of fail...   \n",
       "2  The commit message directly elaborates the mot...   \n",
       "3  The commit message directly elaborates the mot...   \n",
       "4  The commit message directly elaborates the mot...   \n",
       "\n",
       "                       what_category  \\\n",
       "0       Summarize Code Object Change   \n",
       "1  Describe Implementation Principle   \n",
       "2       Summarize Code Object Change   \n",
       "3       Summarize Code Object Change   \n",
       "4       Summarize Code Object Change   \n",
       "\n",
       "                                  what_category_expl  \n",
       "0  The commit message primarily describes the cha...  \n",
       "1  The commit message explains the technical prin...  \n",
       "2  The commit message summarizes the changes in t...  \n",
       "3  The commit message summarizes the code object ...  \n",
       "4  The commit message summarizes the code object ...  "
      ]
     },
     "execution_count": 3,
     "metadata": {},
     "output_type": "execute_result"
    }
   ],
   "source": [
    "codestral_classification = pd.read_csv(codestral_classification_data_file_name)\n",
    "codestral_classification.head()"
   ]
  },
  {
   "cell_type": "code",
   "execution_count": 4,
   "metadata": {},
   "outputs": [
    {
     "name": "stdout",
     "output_type": "stream",
     "text": [
      "The model categorize 263 of 271 commit messages\n"
     ]
    }
   ],
   "source": [
    "n_codestral_classification = codestral_classification['what_category'].notna().sum()\n",
    "print(f'The model categorize {n_codestral_classification} of {len(codestral_classification)} commit messages')"
   ]
  },
  {
   "cell_type": "code",
   "execution_count": 5,
   "metadata": {},
   "outputs": [
    {
     "data": {
      "text/plain": [
       "Summarize Code Object Change         177\n",
       "Describe Implementation Principle     73\n",
       "Illustrate Function                   12\n",
       "Missing What                           1\n",
       "Name: what_category, dtype: int64"
      ]
     },
     "execution_count": 5,
     "metadata": {},
     "output_type": "execute_result"
    }
   ],
   "source": [
    "codestral_classification['what_category'].value_counts()"
   ]
  },
  {
   "cell_type": "markdown",
   "metadata": {},
   "source": [
    "**Loading the manually labeled dataset (ground truth classification)**"
   ]
  },
  {
   "cell_type": "code",
   "execution_count": 6,
   "metadata": {},
   "outputs": [],
   "source": [
    "manually_classification = pd.read_excel('../data/maintenance type and expression way.xlsx')"
   ]
  },
  {
   "cell_type": "code",
   "execution_count": 7,
   "metadata": {},
   "outputs": [
    {
     "data": {
      "text/html": [
       "<div>\n",
       "<style scoped>\n",
       "    .dataframe tbody tr th:only-of-type {\n",
       "        vertical-align: middle;\n",
       "    }\n",
       "\n",
       "    .dataframe tbody tr th {\n",
       "        vertical-align: top;\n",
       "    }\n",
       "\n",
       "    .dataframe thead th {\n",
       "        text-align: right;\n",
       "    }\n",
       "</style>\n",
       "<table border=\"1\" class=\"dataframe\">\n",
       "  <thead>\n",
       "    <tr style=\"text-align: right;\">\n",
       "      <th></th>\n",
       "      <th>Commit ID</th>\n",
       "      <th>URL</th>\n",
       "      <th>Commit Message</th>\n",
       "      <th>Commit Type</th>\n",
       "      <th>Why Codes</th>\n",
       "      <th>Why Initial Category</th>\n",
       "      <th>Why Subcategory</th>\n",
       "      <th>Why Category</th>\n",
       "      <th>What Codes</th>\n",
       "      <th>What Initial Category</th>\n",
       "      <th>What Subcategory</th>\n",
       "      <th>What Category</th>\n",
       "    </tr>\n",
       "  </thead>\n",
       "  <tbody>\n",
       "    <tr>\n",
       "      <th>0</th>\n",
       "      <td>S257</td>\n",
       "      <td>https://github.com/junit-team/junit4/commit/31...</td>\n",
       "      <td>Relicense JUnit from CPL to EPL  &lt;enter&gt; EPL i...</td>\n",
       "      <td>Adaptive</td>\n",
       "      <td>EPL is the successor version of the CPL; CPL i...</td>\n",
       "      <td>bug/defect scenario</td>\n",
       "      <td>Describe error scenario</td>\n",
       "      <td>Describe issue</td>\n",
       "      <td>Relicense JUnit from CPL to EPL</td>\n",
       "      <td>Summarize the key changes</td>\n",
       "      <td>Object of change</td>\n",
       "      <td>Summarize code change</td>\n",
       "    </tr>\n",
       "    <tr>\n",
       "      <th>1</th>\n",
       "      <td>S258</td>\n",
       "      <td>https://github.com/spring-projects/spring-boot...</td>\n",
       "      <td>Better diagnotics when ESCF subclass breaks wi...</td>\n",
       "      <td>Corrective</td>\n",
       "      <td>This commit improves the diagnostics so that</td>\n",
       "      <td>Bug/Defect scenario</td>\n",
       "      <td>Describe error scenario</td>\n",
       "      <td>Describe issue</td>\n",
       "      <td>This commit improves the diagnostics;  fail fa...</td>\n",
       "      <td>Summarize of function change</td>\n",
       "      <td>Illustrate function</td>\n",
       "      <td>Illustrate function</td>\n",
       "    </tr>\n",
       "    <tr>\n",
       "      <th>2</th>\n",
       "      <td>S259</td>\n",
       "      <td>https://github.com/spring-projects/spring-boot...</td>\n",
       "      <td>Update view of bean types when an override is ...</td>\n",
       "      <td>Corrective</td>\n",
       "      <td>This would lead to incorrect</td>\n",
       "      <td>Bug/Defect scenario</td>\n",
       "      <td>Describe error scenario</td>\n",
       "      <td>Describe issue</td>\n",
       "      <td>Update view of bean types when an override is ...</td>\n",
       "      <td>summarize code change and illustrate function</td>\n",
       "      <td>Contrast before and after&amp; \\nIllustrate function</td>\n",
       "      <td>Illustrate function&amp; Summarize code change</td>\n",
       "    </tr>\n",
       "    <tr>\n",
       "      <th>3</th>\n",
       "      <td>S206</td>\n",
       "      <td>https://github.com/square/okhttp/commit/868ee8...</td>\n",
       "      <td>Drop our one remaining DSS cipher suite.  &lt;ent...</td>\n",
       "      <td>Perfective</td>\n",
       "      <td>Tracking Chrome and Firefox, which have also d...</td>\n",
       "      <td>Change based on standards</td>\n",
       "      <td>Conventions and standards</td>\n",
       "      <td>Imply necessity</td>\n",
       "      <td>Drop our one remaining DSS cipher suite.</td>\n",
       "      <td>summarize code change</td>\n",
       "      <td>Object of change</td>\n",
       "      <td>Summarize code change</td>\n",
       "    </tr>\n",
       "    <tr>\n",
       "      <th>4</th>\n",
       "      <td>S173</td>\n",
       "      <td>https://github.com/spring-projects/spring-boot...</td>\n",
       "      <td>Fix undertow access_log file name  &lt;enter&gt; Und...</td>\n",
       "      <td>Corrective</td>\n",
       "      <td>Undertow 1.3.2 changed the default access log...</td>\n",
       "      <td>Change because the environment change</td>\n",
       "      <td>Runtime or development environment change</td>\n",
       "      <td>Illustrate requirement</td>\n",
       "      <td>adapt the file name pattern to include the mi...</td>\n",
       "      <td>Describe the status of code object before and ...</td>\n",
       "      <td>Contrast before and after</td>\n",
       "      <td>Summarize code change</td>\n",
       "    </tr>\n",
       "  </tbody>\n",
       "</table>\n",
       "</div>"
      ],
      "text/plain": [
       "  Commit ID                                                URL  \\\n",
       "0      S257  https://github.com/junit-team/junit4/commit/31...   \n",
       "1      S258  https://github.com/spring-projects/spring-boot...   \n",
       "2      S259  https://github.com/spring-projects/spring-boot...   \n",
       "3      S206  https://github.com/square/okhttp/commit/868ee8...   \n",
       "4      S173  https://github.com/spring-projects/spring-boot...   \n",
       "\n",
       "                                      Commit Message Commit Type  \\\n",
       "0  Relicense JUnit from CPL to EPL  <enter> EPL i...    Adaptive   \n",
       "1  Better diagnotics when ESCF subclass breaks wi...  Corrective   \n",
       "2  Update view of bean types when an override is ...  Corrective   \n",
       "3  Drop our one remaining DSS cipher suite.  <ent...  Perfective   \n",
       "4  Fix undertow access_log file name  <enter> Und...  Corrective   \n",
       "\n",
       "                                           Why Codes  \\\n",
       "0  EPL is the successor version of the CPL; CPL i...   \n",
       "1       This commit improves the diagnostics so that   \n",
       "2                       This would lead to incorrect   \n",
       "3  Tracking Chrome and Firefox, which have also d...   \n",
       "4   Undertow 1.3.2 changed the default access log...   \n",
       "\n",
       "                     Why Initial Category  \\\n",
       "0                     bug/defect scenario   \n",
       "1                     Bug/Defect scenario   \n",
       "2                     Bug/Defect scenario   \n",
       "3               Change based on standards   \n",
       "4  Change because the environment change    \n",
       "\n",
       "                             Why Subcategory            Why Category  \\\n",
       "0                    Describe error scenario          Describe issue   \n",
       "1                    Describe error scenario          Describe issue   \n",
       "2                    Describe error scenario          Describe issue   \n",
       "3                  Conventions and standards         Imply necessity   \n",
       "4  Runtime or development environment change  Illustrate requirement   \n",
       "\n",
       "                                          What Codes  \\\n",
       "0                   Relicense JUnit from CPL to EPL    \n",
       "1  This commit improves the diagnostics;  fail fa...   \n",
       "2  Update view of bean types when an override is ...   \n",
       "3           Drop our one remaining DSS cipher suite.   \n",
       "4   adapt the file name pattern to include the mi...   \n",
       "\n",
       "                               What Initial Category  \\\n",
       "0                          Summarize the key changes   \n",
       "1                       Summarize of function change   \n",
       "2     summarize code change and illustrate function    \n",
       "3                              summarize code change   \n",
       "4  Describe the status of code object before and ...   \n",
       "\n",
       "                                   What Subcategory  \\\n",
       "0                                  Object of change   \n",
       "1                               Illustrate function   \n",
       "2  Contrast before and after& \\nIllustrate function   \n",
       "3                                  Object of change   \n",
       "4                         Contrast before and after   \n",
       "\n",
       "                                What Category  \n",
       "0                       Summarize code change  \n",
       "1                         Illustrate function  \n",
       "2  Illustrate function& Summarize code change  \n",
       "3                       Summarize code change  \n",
       "4                       Summarize code change  "
      ]
     },
     "execution_count": 7,
     "metadata": {},
     "output_type": "execute_result"
    }
   ],
   "source": [
    "manually_classification.head()"
   ]
  },
  {
   "cell_type": "code",
   "execution_count": 8,
   "metadata": {},
   "outputs": [
    {
     "data": {
      "text/plain": [
       "Summarize code change                         174\n",
       "Illustrate function                            52\n",
       "Missing What                                   19\n",
       "Illustrate function& Summarize code change     17\n",
       "Describe implementation principle               9\n",
       "Name: What Category, dtype: int64"
      ]
     },
     "execution_count": 8,
     "metadata": {},
     "output_type": "execute_result"
    }
   ],
   "source": [
    "manually_classification['What Category'].value_counts()"
   ]
  },
  {
   "cell_type": "code",
   "execution_count": 9,
   "metadata": {},
   "outputs": [],
   "source": [
    "manually_classification['What Category'] = manually_classification['What Category'].replace('Summarize code change', 'Summarize Code Object Change')\n",
    "manually_classification['What Category'] = manually_classification['What Category'].replace('Illustrate function', 'Illustrate Function')\n",
    "manually_classification['What Category'] = manually_classification['What Category'].replace('Describe implementation principle', 'Describe Implementation Principle')"
   ]
  },
  {
   "cell_type": "code",
   "execution_count": 10,
   "metadata": {},
   "outputs": [
    {
     "name": "stdout",
     "output_type": "stream",
     "text": [
      "We are considering just 254 of the 271 commit messages\n"
     ]
    }
   ],
   "source": [
    "considered_values = ['Summarize Code Object Change', 'Describe Implementation Principle', 'Illustrate Function', 'Missing What']\n",
    "considered_values_idx = manually_classification[manually_classification['What Category'].isin(considered_values)].index\n",
    "print(f'We are considering just {len(considered_values_idx)} of the {len(manually_classification)} commit messages')"
   ]
  },
  {
   "cell_type": "code",
   "execution_count": 11,
   "metadata": {},
   "outputs": [
    {
     "data": {
      "text/plain": [
       "(254, 8)"
      ]
     },
     "execution_count": 11,
     "metadata": {},
     "output_type": "execute_result"
    }
   ],
   "source": [
    "codestral_classification.loc[considered_values_idx].shape"
   ]
  },
  {
   "cell_type": "code",
   "execution_count": 12,
   "metadata": {},
   "outputs": [],
   "source": [
    "codestral_classification_considered = codestral_classification.loc[considered_values_idx]\n",
    "final_considered_values_idx = codestral_classification_considered[codestral_classification_considered['what_category'].notna()].index"
   ]
  },
  {
   "cell_type": "code",
   "execution_count": 13,
   "metadata": {},
   "outputs": [
    {
     "data": {
      "text/plain": [
       "0           Summarize Code Object Change\n",
       "1                    Illustrate Function\n",
       "3           Summarize Code Object Change\n",
       "4           Summarize Code Object Change\n",
       "5           Summarize Code Object Change\n",
       "                     ...                \n",
       "266         Summarize Code Object Change\n",
       "267         Summarize Code Object Change\n",
       "268         Summarize Code Object Change\n",
       "269    Describe Implementation Principle\n",
       "270         Summarize Code Object Change\n",
       "Name: What Category, Length: 247, dtype: object"
      ]
     },
     "execution_count": 13,
     "metadata": {},
     "output_type": "execute_result"
    }
   ],
   "source": [
    "human_classification_why = manually_classification.loc[final_considered_values_idx]['What Category']\n",
    "human_classification_why"
   ]
  },
  {
   "cell_type": "code",
   "execution_count": 14,
   "metadata": {},
   "outputs": [
    {
     "data": {
      "text/plain": [
       "0           Summarize Code Object Change\n",
       "1      Describe Implementation Principle\n",
       "3           Summarize Code Object Change\n",
       "4           Summarize Code Object Change\n",
       "5           Summarize Code Object Change\n",
       "                     ...                \n",
       "266         Summarize Code Object Change\n",
       "267         Summarize Code Object Change\n",
       "268    Describe Implementation Principle\n",
       "269         Summarize Code Object Change\n",
       "270         Summarize Code Object Change\n",
       "Name: what_category, Length: 247, dtype: object"
      ]
     },
     "execution_count": 14,
     "metadata": {},
     "output_type": "execute_result"
    }
   ],
   "source": [
    "codestral_predictions_why = codestral_classification.loc[final_considered_values_idx]['what_category']\n",
    "codestral_predictions_why"
   ]
  },
  {
   "cell_type": "code",
   "execution_count": 15,
   "metadata": {},
   "outputs": [
    {
     "data": {
      "text/plain": [
       "0.10447996468993359"
      ]
     },
     "execution_count": 15,
     "metadata": {},
     "output_type": "execute_result"
    }
   ],
   "source": [
    "cohen_kappa_score(human_classification_why, codestral_predictions_why)"
   ]
  },
  {
   "cell_type": "code",
   "execution_count": 16,
   "metadata": {},
   "outputs": [],
   "source": [
    "cm = confusion_matrix(human_classification_why, codestral_predictions_why, labels=considered_values)"
   ]
  },
  {
   "cell_type": "code",
   "execution_count": 17,
   "metadata": {},
   "outputs": [
    {
     "data": {
      "image/png": "[encoded data removed]",
      "text/plain": [
       "<Figure size 640x480 with 2 Axes>"
      ]
     },
     "metadata": {},
     "output_type": "display_data"
    }
   ],
   "source": [
    "cm_display = ConfusionMatrixDisplay(confusion_matrix = cm, display_labels = ['SCOC', 'DIP', 'IF', 'MW'])\n",
    "cmap = matplotlib.colors.LinearSegmentedColormap.from_list(\"\", [\"white\",\"#154EBF\"])\n",
    "cm_display.plot(cmap=cmap)\n",
    "plt.ylabel('Human (Tian et al.) classification')\n",
    "plt.xlabel('Codestral classification')\n",
    "plt.title('\"What expressions\" commit messages classification')\n",
    "plt.show()"
   ]
  }
 ],
 "metadata": {
  "kernelspec": {
   "display_name": "Python 3",
   "language": "python",
   "name": "python3"
  },
  "language_info": {
   "codemirror_mode": {
    "name": "ipython",
    "version": 3
   },
   "file_extension": ".py",
   "mimetype": "text/x-python",
   "name": "python",
   "nbconvert_exporter": "python",
   "pygments_lexer": "ipython3",
   "version": "3.10.10"
  }
 },
 "nbformat": 4,
 "nbformat_minor": 2
}
