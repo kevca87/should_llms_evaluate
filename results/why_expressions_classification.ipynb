{
 "cells": [
  {
   "cell_type": "markdown",
   "metadata": {},
   "source": [
    "# Why expressions classification"
   ]
  },
  {
   "cell_type": "code",
   "execution_count": 1,
   "metadata": {},
   "outputs": [],
   "source": [
    "import pandas as pd\n",
    "import matplotlib.pyplot as plt\n",
    "import matplotlib\n",
    "from sklearn.metrics import cohen_kappa_score\n",
    "from sklearn.metrics import confusion_matrix\n",
    "from sklearn.metrics import ConfusionMatrixDisplay\n",
    "from sklearn.metrics import f1_score, precision_score, recall_score, classification_report"
   ]
  },
  {
   "cell_type": "code",
   "execution_count": 2,
   "metadata": {},
   "outputs": [],
   "source": [
    "codestral_classification_data_file_name = \"./cme_codestral-latest_classification.csv\""
   ]
  },
  {
   "cell_type": "markdown",
   "metadata": {},
   "source": [
    "The following dataset contains the answers of the model to the prompts to classify the category of the \"Why\" and \"What\" expression/"
   ]
  },
  {
   "cell_type": "code",
   "execution_count": 3,
   "metadata": {},
   "outputs": [
    {
     "data": {
      "text/html": [
       "<div>\n",
       "<style scoped>\n",
       "    .dataframe tbody tr th:only-of-type {\n",
       "        vertical-align: middle;\n",
       "    }\n",
       "\n",
       "    .dataframe tbody tr th {\n",
       "        vertical-align: top;\n",
       "    }\n",
       "\n",
       "    .dataframe thead th {\n",
       "        text-align: right;\n",
       "    }\n",
       "</style>\n",
       "<table border=\"1\" class=\"dataframe\">\n",
       "  <thead>\n",
       "    <tr style=\"text-align: right;\">\n",
       "      <th></th>\n",
       "      <th>url</th>\n",
       "      <th>message</th>\n",
       "      <th>api_url</th>\n",
       "      <th>diff</th>\n",
       "      <th>why_category</th>\n",
       "      <th>why_category_expl</th>\n",
       "      <th>what_category</th>\n",
       "      <th>what_category_expl</th>\n",
       "    </tr>\n",
       "  </thead>\n",
       "  <tbody>\n",
       "    <tr>\n",
       "      <th>0</th>\n",
       "      <td>https://github.com/junit-team/junit4/commit/31...</td>\n",
       "      <td>Relicense JUnit from CPL to EPL  &lt;enter&gt; EPL i...</td>\n",
       "      <td>https://api.github.com/repos/junit-team/junit4...</td>\n",
       "      <td>@@ -1,8 +1,8 @@\\n JUnit\\n \\n-Common Public Lic...</td>\n",
       "      <td>Describe Objective</td>\n",
       "      <td>The commit message explains the objective of t...</td>\n",
       "      <td>Summarize Code Object Change</td>\n",
       "      <td>The commit message primarily describes the cha...</td>\n",
       "    </tr>\n",
       "    <tr>\n",
       "      <th>1</th>\n",
       "      <td>https://github.com/spring-projects/spring-boot...</td>\n",
       "      <td>Better diagnotics when ESCF subclass breaks wi...</td>\n",
       "      <td>https://api.github.com/repos/spring-projects/s...</td>\n",
       "      <td>@@ -17,6 +17,7 @@\\n package org.springframewor...</td>\n",
       "      <td>Describe Issue</td>\n",
       "      <td>The commit message describes the issue of fail...</td>\n",
       "      <td>Describe Implementation Principle</td>\n",
       "      <td>The commit message explains the technical prin...</td>\n",
       "    </tr>\n",
       "    <tr>\n",
       "      <th>2</th>\n",
       "      <td>https://github.com/spring-projects/spring-boot...</td>\n",
       "      <td>Update view of bean types when an override is ...</td>\n",
       "      <td>https://api.github.com/repos/spring-projects/s...</td>\n",
       "      <td>@@ -76,7 +76,7 @@ final class BeanTypeRegistry...</td>\n",
       "      <td>Describe Issue</td>\n",
       "      <td>The commit message directly elaborates the mot...</td>\n",
       "      <td>Summarize Code Object Change</td>\n",
       "      <td>The commit message summarizes the changes in t...</td>\n",
       "    </tr>\n",
       "    <tr>\n",
       "      <th>3</th>\n",
       "      <td>https://github.com/square/okhttp/commit/868ee8...</td>\n",
       "      <td>Drop our one remaining DSS cipher suite.  &lt;ent...</td>\n",
       "      <td>https://api.github.com/repos/square/okhttp/com...</td>\n",
       "      <td>@@ -37,7 +37,7 @@\\n  */\\n public final class C...</td>\n",
       "      <td>Describe Issue</td>\n",
       "      <td>The commit message directly elaborates the mot...</td>\n",
       "      <td>Summarize Code Object Change</td>\n",
       "      <td>The commit message summarizes the code object ...</td>\n",
       "    </tr>\n",
       "    <tr>\n",
       "      <th>4</th>\n",
       "      <td>https://github.com/spring-projects/spring-boot...</td>\n",
       "      <td>Fix undertow access_log file name  &lt;enter&gt; Und...</td>\n",
       "      <td>https://api.github.com/repos/spring-projects/s...</td>\n",
       "      <td>@@ -384,7 +384,7 @@ private AccessLogHandler c...</td>\n",
       "      <td>Describe Issue</td>\n",
       "      <td>The commit message directly elaborates the mot...</td>\n",
       "      <td>Summarize Code Object Change</td>\n",
       "      <td>The commit message summarizes the code object ...</td>\n",
       "    </tr>\n",
       "  </tbody>\n",
       "</table>\n",
       "</div>"
      ],
      "text/plain": [
       "                                                 url  \\\n",
       "0  https://github.com/junit-team/junit4/commit/31...   \n",
       "1  https://github.com/spring-projects/spring-boot...   \n",
       "2  https://github.com/spring-projects/spring-boot...   \n",
       "3  https://github.com/square/okhttp/commit/868ee8...   \n",
       "4  https://github.com/spring-projects/spring-boot...   \n",
       "\n",
       "                                             message  \\\n",
       "0  Relicense JUnit from CPL to EPL  <enter> EPL i...   \n",
       "1  Better diagnotics when ESCF subclass breaks wi...   \n",
       "2  Update view of bean types when an override is ...   \n",
       "3  Drop our one remaining DSS cipher suite.  <ent...   \n",
       "4  Fix undertow access_log file name  <enter> Und...   \n",
       "\n",
       "                                             api_url  \\\n",
       "0  https://api.github.com/repos/junit-team/junit4...   \n",
       "1  https://api.github.com/repos/spring-projects/s...   \n",
       "2  https://api.github.com/repos/spring-projects/s...   \n",
       "3  https://api.github.com/repos/square/okhttp/com...   \n",
       "4  https://api.github.com/repos/spring-projects/s...   \n",
       "\n",
       "                                                diff        why_category  \\\n",
       "0  @@ -1,8 +1,8 @@\\n JUnit\\n \\n-Common Public Lic...  Describe Objective   \n",
       "1  @@ -17,6 +17,7 @@\\n package org.springframewor...      Describe Issue   \n",
       "2  @@ -76,7 +76,7 @@ final class BeanTypeRegistry...      Describe Issue   \n",
       "3  @@ -37,7 +37,7 @@\\n  */\\n public final class C...      Describe Issue   \n",
       "4  @@ -384,7 +384,7 @@ private AccessLogHandler c...      Describe Issue   \n",
       "\n",
       "                                   why_category_expl  \\\n",
       "0  The commit message explains the objective of t...   \n",
       "1  The commit message describes the issue of fail...   \n",
       "2  The commit message directly elaborates the mot...   \n",
       "3  The commit message directly elaborates the mot...   \n",
       "4  The commit message directly elaborates the mot...   \n",
       "\n",
       "                       what_category  \\\n",
       "0       Summarize Code Object Change   \n",
       "1  Describe Implementation Principle   \n",
       "2       Summarize Code Object Change   \n",
       "3       Summarize Code Object Change   \n",
       "4       Summarize Code Object Change   \n",
       "\n",
       "                                  what_category_expl  \n",
       "0  The commit message primarily describes the cha...  \n",
       "1  The commit message explains the technical prin...  \n",
       "2  The commit message summarizes the changes in t...  \n",
       "3  The commit message summarizes the code object ...  \n",
       "4  The commit message summarizes the code object ...  "
      ]
     },
     "execution_count": 3,
     "metadata": {},
     "output_type": "execute_result"
    }
   ],
   "source": [
    "codestral_classification = pd.read_csv(codestral_classification_data_file_name)\n",
    "codestral_classification.head()"
   ]
  },
  {
   "cell_type": "code",
   "execution_count": 4,
   "metadata": {},
   "outputs": [
    {
     "name": "stdout",
     "output_type": "stream",
     "text": [
      "The model categorize 264 of 271 commit messages\n"
     ]
    }
   ],
   "source": [
    "n_codestral_classification = codestral_classification['why_category'].notna().sum()\n",
    "print(f'The model categorize {n_codestral_classification} of {len(codestral_classification)} commit messages')"
   ]
  },
  {
   "cell_type": "code",
   "execution_count": 5,
   "metadata": {},
   "outputs": [
    {
     "data": {
      "text/plain": [
       "why_category\n",
       "Describe Issue            166\n",
       "Describe Objective         54\n",
       "Ilustrate Requirement      19\n",
       "Describe Requirement       12\n",
       "Illustrate Requirement     10\n",
       "Missing Why                 2\n",
       "Imply necessity             1\n",
       "Name: count, dtype: int64"
      ]
     },
     "execution_count": 5,
     "metadata": {},
     "output_type": "execute_result"
    }
   ],
   "source": [
    "codestral_classification['why_category'].value_counts()"
   ]
  },
  {
   "cell_type": "markdown",
   "metadata": {},
   "source": [
    "Uniformizamos los datos por errores de typeo"
   ]
  },
  {
   "cell_type": "code",
   "execution_count": 6,
   "metadata": {},
   "outputs": [
    {
     "data": {
      "text/plain": [
       "why_category\n",
       "Describe Issue            166\n",
       "Describe Objective         54\n",
       "Illustrate Requirement     41\n",
       "Missing Why                 2\n",
       "Imply necessity             1\n",
       "Name: count, dtype: int64"
      ]
     },
     "execution_count": 6,
     "metadata": {},
     "output_type": "execute_result"
    }
   ],
   "source": [
    "codestral_classification['why_category'] = codestral_classification['why_category'].replace('Ilustrate Requirement', 'Illustrate Requirement')\n",
    "codestral_classification['why_category'] = codestral_classification['why_category'].replace('Describe Requirement', 'Illustrate Requirement')\n",
    "codestral_classification['why_category'].value_counts()"
   ]
  },
  {
   "cell_type": "markdown",
   "metadata": {},
   "source": [
    "**Loading the manually labeled dataset (ground truth classification)**"
   ]
  },
  {
   "cell_type": "code",
   "execution_count": 7,
   "metadata": {},
   "outputs": [],
   "source": [
    "manually_classification = pd.read_excel('../data/maintenance type and expression way.xlsx')"
   ]
  },
  {
   "cell_type": "code",
   "execution_count": 8,
   "metadata": {},
   "outputs": [
    {
     "data": {
      "text/html": [
       "<div>\n",
       "<style scoped>\n",
       "    .dataframe tbody tr th:only-of-type {\n",
       "        vertical-align: middle;\n",
       "    }\n",
       "\n",
       "    .dataframe tbody tr th {\n",
       "        vertical-align: top;\n",
       "    }\n",
       "\n",
       "    .dataframe thead th {\n",
       "        text-align: right;\n",
       "    }\n",
       "</style>\n",
       "<table border=\"1\" class=\"dataframe\">\n",
       "  <thead>\n",
       "    <tr style=\"text-align: right;\">\n",
       "      <th></th>\n",
       "      <th>Commit ID</th>\n",
       "      <th>URL</th>\n",
       "      <th>Commit Message</th>\n",
       "      <th>Commit Type</th>\n",
       "      <th>Why Codes</th>\n",
       "      <th>Why Initial Category</th>\n",
       "      <th>Why Subcategory</th>\n",
       "      <th>Why Category</th>\n",
       "      <th>What Codes</th>\n",
       "      <th>What Initial Category</th>\n",
       "      <th>What Subcategory</th>\n",
       "      <th>What Category</th>\n",
       "    </tr>\n",
       "  </thead>\n",
       "  <tbody>\n",
       "    <tr>\n",
       "      <th>0</th>\n",
       "      <td>S257</td>\n",
       "      <td>https://github.com/junit-team/junit4/commit/31...</td>\n",
       "      <td>Relicense JUnit from CPL to EPL  &lt;enter&gt; EPL i...</td>\n",
       "      <td>Adaptive</td>\n",
       "      <td>EPL is the successor version of the CPL; CPL i...</td>\n",
       "      <td>bug/defect scenario</td>\n",
       "      <td>Describe error scenario</td>\n",
       "      <td>Describe issue</td>\n",
       "      <td>Relicense JUnit from CPL to EPL</td>\n",
       "      <td>Summarize the key changes</td>\n",
       "      <td>Object of change</td>\n",
       "      <td>Summarize code change</td>\n",
       "    </tr>\n",
       "    <tr>\n",
       "      <th>1</th>\n",
       "      <td>S258</td>\n",
       "      <td>https://github.com/spring-projects/spring-boot...</td>\n",
       "      <td>Better diagnotics when ESCF subclass breaks wi...</td>\n",
       "      <td>Corrective</td>\n",
       "      <td>This commit improves the diagnostics so that</td>\n",
       "      <td>Bug/Defect scenario</td>\n",
       "      <td>Describe error scenario</td>\n",
       "      <td>Describe issue</td>\n",
       "      <td>This commit improves the diagnostics;  fail fa...</td>\n",
       "      <td>Summarize of function change</td>\n",
       "      <td>Illustrate function</td>\n",
       "      <td>Illustrate function</td>\n",
       "    </tr>\n",
       "    <tr>\n",
       "      <th>2</th>\n",
       "      <td>S259</td>\n",
       "      <td>https://github.com/spring-projects/spring-boot...</td>\n",
       "      <td>Update view of bean types when an override is ...</td>\n",
       "      <td>Corrective</td>\n",
       "      <td>This would lead to incorrect</td>\n",
       "      <td>Bug/Defect scenario</td>\n",
       "      <td>Describe error scenario</td>\n",
       "      <td>Describe issue</td>\n",
       "      <td>Update view of bean types when an override is ...</td>\n",
       "      <td>summarize code change and illustrate function</td>\n",
       "      <td>Contrast before and after&amp; \\nIllustrate function</td>\n",
       "      <td>Illustrate function&amp; Summarize code change</td>\n",
       "    </tr>\n",
       "    <tr>\n",
       "      <th>3</th>\n",
       "      <td>S206</td>\n",
       "      <td>https://github.com/square/okhttp/commit/868ee8...</td>\n",
       "      <td>Drop our one remaining DSS cipher suite.  &lt;ent...</td>\n",
       "      <td>Perfective</td>\n",
       "      <td>Tracking Chrome and Firefox, which have also d...</td>\n",
       "      <td>Change based on standards</td>\n",
       "      <td>Conventions and standards</td>\n",
       "      <td>Imply necessity</td>\n",
       "      <td>Drop our one remaining DSS cipher suite.</td>\n",
       "      <td>summarize code change</td>\n",
       "      <td>Object of change</td>\n",
       "      <td>Summarize code change</td>\n",
       "    </tr>\n",
       "    <tr>\n",
       "      <th>4</th>\n",
       "      <td>S173</td>\n",
       "      <td>https://github.com/spring-projects/spring-boot...</td>\n",
       "      <td>Fix undertow access_log file name  &lt;enter&gt; Und...</td>\n",
       "      <td>Corrective</td>\n",
       "      <td>Undertow 1.3.2 changed the default access log...</td>\n",
       "      <td>Change because the environment change</td>\n",
       "      <td>Runtime or development environment change</td>\n",
       "      <td>Illustrate requirement</td>\n",
       "      <td>adapt the file name pattern to include the mi...</td>\n",
       "      <td>Describe the status of code object before and ...</td>\n",
       "      <td>Contrast before and after</td>\n",
       "      <td>Summarize code change</td>\n",
       "    </tr>\n",
       "  </tbody>\n",
       "</table>\n",
       "</div>"
      ],
      "text/plain": [
       "  Commit ID                                                URL  \\\n",
       "0      S257  https://github.com/junit-team/junit4/commit/31...   \n",
       "1      S258  https://github.com/spring-projects/spring-boot...   \n",
       "2      S259  https://github.com/spring-projects/spring-boot...   \n",
       "3      S206  https://github.com/square/okhttp/commit/868ee8...   \n",
       "4      S173  https://github.com/spring-projects/spring-boot...   \n",
       "\n",
       "                                      Commit Message Commit Type  \\\n",
       "0  Relicense JUnit from CPL to EPL  <enter> EPL i...    Adaptive   \n",
       "1  Better diagnotics when ESCF subclass breaks wi...  Corrective   \n",
       "2  Update view of bean types when an override is ...  Corrective   \n",
       "3  Drop our one remaining DSS cipher suite.  <ent...  Perfective   \n",
       "4  Fix undertow access_log file name  <enter> Und...  Corrective   \n",
       "\n",
       "                                           Why Codes  \\\n",
       "0  EPL is the successor version of the CPL; CPL i...   \n",
       "1       This commit improves the diagnostics so that   \n",
       "2                       This would lead to incorrect   \n",
       "3  Tracking Chrome and Firefox, which have also d...   \n",
       "4   Undertow 1.3.2 changed the default access log...   \n",
       "\n",
       "                     Why Initial Category  \\\n",
       "0                     bug/defect scenario   \n",
       "1                     Bug/Defect scenario   \n",
       "2                     Bug/Defect scenario   \n",
       "3               Change based on standards   \n",
       "4  Change because the environment change    \n",
       "\n",
       "                             Why Subcategory            Why Category  \\\n",
       "0                    Describe error scenario          Describe issue   \n",
       "1                    Describe error scenario          Describe issue   \n",
       "2                    Describe error scenario          Describe issue   \n",
       "3                  Conventions and standards         Imply necessity   \n",
       "4  Runtime or development environment change  Illustrate requirement   \n",
       "\n",
       "                                          What Codes  \\\n",
       "0                   Relicense JUnit from CPL to EPL    \n",
       "1  This commit improves the diagnostics;  fail fa...   \n",
       "2  Update view of bean types when an override is ...   \n",
       "3           Drop our one remaining DSS cipher suite.   \n",
       "4   adapt the file name pattern to include the mi...   \n",
       "\n",
       "                               What Initial Category  \\\n",
       "0                          Summarize the key changes   \n",
       "1                       Summarize of function change   \n",
       "2     summarize code change and illustrate function    \n",
       "3                              summarize code change   \n",
       "4  Describe the status of code object before and ...   \n",
       "\n",
       "                                   What Subcategory  \\\n",
       "0                                  Object of change   \n",
       "1                               Illustrate function   \n",
       "2  Contrast before and after& \\nIllustrate function   \n",
       "3                                  Object of change   \n",
       "4                         Contrast before and after   \n",
       "\n",
       "                                What Category  \n",
       "0                       Summarize code change  \n",
       "1                         Illustrate function  \n",
       "2  Illustrate function& Summarize code change  \n",
       "3                       Summarize code change  \n",
       "4                       Summarize code change  "
      ]
     },
     "execution_count": 8,
     "metadata": {},
     "output_type": "execute_result"
    }
   ],
   "source": [
    "manually_classification.head()"
   ]
  },
  {
   "cell_type": "code",
   "execution_count": 9,
   "metadata": {},
   "outputs": [],
   "source": [
    "manually_classification['Why Category'] = manually_classification['Why Category'].replace('Illustrate requirement', 'Illustrate Requirement')\n",
    "manually_classification['Why Category'] = manually_classification['Why Category'].replace('Describe objective', 'Describe Objective')\n",
    "manually_classification['Why Category'] = manually_classification['Why Category'].replace('Describe issue', 'Describe Issue')"
   ]
  },
  {
   "cell_type": "code",
   "execution_count": 10,
   "metadata": {},
   "outputs": [
    {
     "name": "stdout",
     "output_type": "stream",
     "text": [
      "We are considering just 246 of the 271 commit messages\n"
     ]
    }
   ],
   "source": [
    "considered_values = ['Describe Issue', 'Describe Objective', 'Illustrate Requirement', 'Missing Why', 'Imply necessity']\n",
    "considered_values_idx = manually_classification[manually_classification['Why Category'].isin(considered_values)].index\n",
    "print(f'We are considering just {len(considered_values_idx)} of the {len(manually_classification)} commit messages')"
   ]
  },
  {
   "cell_type": "code",
   "execution_count": 11,
   "metadata": {},
   "outputs": [
    {
     "data": {
      "text/plain": [
       "(246, 8)"
      ]
     },
     "execution_count": 11,
     "metadata": {},
     "output_type": "execute_result"
    }
   ],
   "source": [
    "codestral_classification.loc[considered_values_idx].shape"
   ]
  },
  {
   "cell_type": "code",
   "execution_count": 12,
   "metadata": {},
   "outputs": [],
   "source": [
    "codestral_classification_considered = codestral_classification.loc[considered_values_idx]\n",
    "final_considered_values_idx = codestral_classification_considered[codestral_classification_considered['why_category'].notna()].index"
   ]
  },
  {
   "cell_type": "code",
   "execution_count": 13,
   "metadata": {},
   "outputs": [
    {
     "data": {
      "text/plain": [
       "0              Describe Issue\n",
       "1              Describe Issue\n",
       "2              Describe Issue\n",
       "3             Imply necessity\n",
       "4      Illustrate Requirement\n",
       "                ...          \n",
       "247           Imply necessity\n",
       "248               Missing Why\n",
       "249           Imply necessity\n",
       "250           Imply necessity\n",
       "251           Imply necessity\n",
       "Name: Why Category, Length: 239, dtype: object"
      ]
     },
     "execution_count": 13,
     "metadata": {},
     "output_type": "execute_result"
    }
   ],
   "source": [
    "human_classification_why = manually_classification.loc[final_considered_values_idx]['Why Category']\n",
    "human_classification_why"
   ]
  },
  {
   "cell_type": "code",
   "execution_count": 14,
   "metadata": {},
   "outputs": [
    {
     "data": {
      "text/plain": [
       "0      Describe Objective\n",
       "1          Describe Issue\n",
       "2          Describe Issue\n",
       "3          Describe Issue\n",
       "4          Describe Issue\n",
       "              ...        \n",
       "247       Imply necessity\n",
       "248        Describe Issue\n",
       "249    Describe Objective\n",
       "250    Describe Objective\n",
       "251           Missing Why\n",
       "Name: why_category, Length: 239, dtype: object"
      ]
     },
     "execution_count": 14,
     "metadata": {},
     "output_type": "execute_result"
    }
   ],
   "source": [
    "codestral_predictions_why = codestral_classification.loc[final_considered_values_idx]['why_category']\n",
    "codestral_predictions_why"
   ]
  },
  {
   "cell_type": "code",
   "execution_count": 15,
   "metadata": {},
   "outputs": [
    {
     "data": {
      "text/plain": [
       "0.1062636335306949"
      ]
     },
     "execution_count": 15,
     "metadata": {},
     "output_type": "execute_result"
    }
   ],
   "source": [
    "cohen_kappa_score(human_classification_why, codestral_predictions_why)"
   ]
  },
  {
   "cell_type": "code",
   "execution_count": 16,
   "metadata": {},
   "outputs": [],
   "source": [
    "cm = confusion_matrix(human_classification_why, codestral_predictions_why, labels=considered_values)"
   ]
  },
  {
   "cell_type": "code",
   "execution_count": 17,
   "metadata": {},
   "outputs": [
    {
     "data": {
      "image/png": "[encoded data removed]",
      "text/plain": [
       "<Figure size 640x480 with 2 Axes>"
      ]
     },
     "metadata": {},
     "output_type": "display_data"
    }
   ],
   "source": [
    "cm_display = ConfusionMatrixDisplay(confusion_matrix = cm, display_labels = ['DI', 'DO', 'IR', 'MW', 'IN'])\n",
    "cmap = matplotlib.colors.LinearSegmentedColormap.from_list(\"\", [\"white\",\"#3D2273\"])\n",
    "cm_display.plot(cmap=cmap)\n",
    "plt.ylabel('Human (Tian et al.) classification')\n",
    "plt.xlabel('Codestral classification')\n",
    "plt.title('\"Why expressions\" commit messages classification')\n",
    "plt.show()"
   ]
  },
  {
   "cell_type": "code",
   "execution_count": 18,
   "metadata": {},
   "outputs": [
    {
     "data": {
      "text/plain": [
       "{'precision': 0.45915233785822024,\n",
       " 'recall': 0.27466861640774687,\n",
       " 'f1-score': 0.20098224336599796,\n",
       " 'support': 239.0}"
      ]
     },
     "execution_count": 18,
     "metadata": {},
     "output_type": "execute_result"
    }
   ],
   "source": [
    "class_rep_dict = classification_report(human_classification_why,codestral_predictions_why, output_dict=True)\n",
    "class_rep_dict['Average (weighted)'] = class_rep_dict.pop('weighted avg')\n",
    "class_rep_dict.pop('accuracy')\n",
    "class_rep_dict.pop('macro avg')"
   ]
  },
  {
   "cell_type": "code",
   "execution_count": 19,
   "metadata": {},
   "outputs": [
    {
     "data": {
      "text/html": [
       "<div>\n",
       "<style scoped>\n",
       "    .dataframe tbody tr th:only-of-type {\n",
       "        vertical-align: middle;\n",
       "    }\n",
       "\n",
       "    .dataframe tbody tr th {\n",
       "        vertical-align: top;\n",
       "    }\n",
       "\n",
       "    .dataframe thead th {\n",
       "        text-align: right;\n",
       "    }\n",
       "</style>\n",
       "<table border=\"1\" class=\"dataframe\">\n",
       "  <thead>\n",
       "    <tr style=\"text-align: right;\">\n",
       "      <th></th>\n",
       "      <th>precision</th>\n",
       "      <th>recall</th>\n",
       "      <th>f1-score</th>\n",
       "      <th>support</th>\n",
       "    </tr>\n",
       "  </thead>\n",
       "  <tbody>\n",
       "    <tr>\n",
       "      <th>Describe Issue</th>\n",
       "      <td>0.346667</td>\n",
       "      <td>0.825397</td>\n",
       "      <td>0.488263</td>\n",
       "      <td>63.0</td>\n",
       "    </tr>\n",
       "    <tr>\n",
       "      <th>Describe Objective</th>\n",
       "      <td>0.096154</td>\n",
       "      <td>0.238095</td>\n",
       "      <td>0.136986</td>\n",
       "      <td>21.0</td>\n",
       "    </tr>\n",
       "    <tr>\n",
       "      <th>Illustrate Requirement</th>\n",
       "      <td>0.352941</td>\n",
       "      <td>0.272727</td>\n",
       "      <td>0.307692</td>\n",
       "      <td>44.0</td>\n",
       "    </tr>\n",
       "    <tr>\n",
       "      <th>Imply necessity</th>\n",
       "      <td>1.000000</td>\n",
       "      <td>0.015385</td>\n",
       "      <td>0.030303</td>\n",
       "      <td>65.0</td>\n",
       "    </tr>\n",
       "    <tr>\n",
       "      <th>Missing Why</th>\n",
       "      <td>0.500000</td>\n",
       "      <td>0.021739</td>\n",
       "      <td>0.041667</td>\n",
       "      <td>46.0</td>\n",
       "    </tr>\n",
       "    <tr>\n",
       "      <th>Average (weighted)</th>\n",
       "      <td>0.533007</td>\n",
       "      <td>0.297071</td>\n",
       "      <td>0.213649</td>\n",
       "      <td>239.0</td>\n",
       "    </tr>\n",
       "  </tbody>\n",
       "</table>\n",
       "</div>"
      ],
      "text/plain": [
       "                        precision    recall  f1-score  support\n",
       "Describe Issue           0.346667  0.825397  0.488263     63.0\n",
       "Describe Objective       0.096154  0.238095  0.136986     21.0\n",
       "Illustrate Requirement   0.352941  0.272727  0.307692     44.0\n",
       "Imply necessity          1.000000  0.015385  0.030303     65.0\n",
       "Missing Why              0.500000  0.021739  0.041667     46.0\n",
       "Average (weighted)       0.533007  0.297071  0.213649    239.0"
      ]
     },
     "execution_count": 19,
     "metadata": {},
     "output_type": "execute_result"
    }
   ],
   "source": [
    "class_rep_df = pd.DataFrame(class_rep_dict).transpose()\n",
    "class_rep_df"
   ]
  },
  {
   "cell_type": "code",
   "execution_count": 20,
   "metadata": {},
   "outputs": [],
   "source": [
    "class_rep_df.to_latex('why_expressions_eclassification_metrics.tex', float_format=\"%.2f\")"
   ]
  }
 ],
 "metadata": {
  "kernelspec": {
   "display_name": "Python 3",
   "language": "python",
   "name": "python3"
  },
  "language_info": {
   "codemirror_mode": {
    "name": "ipython",
    "version": 3
   },
   "file_extension": ".py",
   "mimetype": "text/x-python",
   "name": "python",
   "nbconvert_exporter": "python",
   "pygments_lexer": "ipython3",
   "version": "3.10.11"
  }
 },
 "nbformat": 4,
 "nbformat_minor": 2
}
